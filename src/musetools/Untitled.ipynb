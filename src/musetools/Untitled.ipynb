{
 "cells": [
  {
   "cell_type": "code",
   "execution_count": null,
   "metadata": {},
   "outputs": [],
   "source": [
    "from musetools import io as io\n",
    "from musetools import utils as u\n",
    "import getpass\n",
    "\n",
    "username=getpass.getuser()\n",
    "\n",
    "if username == 'bordoloi':\n",
    "\tfitsfile = '/Users/bordoloi/Dropbox/MUSE/LensedArc/RCS0327_16mc_zap.fits'\n",
    "else:\n",
    "\tfitsfile = '/home/ahmed/astro/data/RCS0327_16mc_zap.fits'\n",
    "\n",
    "size = (80, 180)\n",
    "position = (180., 250.)\n",
    "flx,var,header=trim_cube_with_header(fitsfile,size=size,position=position)\n",
    "io.write_cube(flx,var,header,outfile)"
   ]
  }
 ],
 "metadata": {
  "kernelspec": {
   "display_name": "Python 3",
   "language": "python",
   "name": "python3"
  },
  "language_info": {
   "codemirror_mode": {
    "name": "ipython",
    "version": 3
   },
   "file_extension": ".py",
   "mimetype": "text/x-python",
   "name": "python",
   "nbconvert_exporter": "python",
   "pygments_lexer": "ipython3",
   "version": "3.6.7"
  }
 },
 "nbformat": 4,
 "nbformat_minor": 2
}
