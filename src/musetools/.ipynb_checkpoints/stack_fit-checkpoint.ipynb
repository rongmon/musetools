{
 "cells": [
  {
   "cell_type": "code",
   "execution_count": 22,
   "metadata": {},
   "outputs": [
    {
     "name": "stdout",
     "output_type": "stream",
     "text": [
      "2853.8017249661493\n"
     ]
    }
   ],
   "source": [
    "from astropy.io import fits\n",
    "from astropy.io import ascii\n",
    "from astropy.table import Table\n",
    "import numpy as np\n",
    "import matplotlib.pyplot as plt\n",
    "from musetools import io as io\n",
    "from musetools import spec as s\n",
    "import musetools.util as u\n",
    "import musetools.modeling as m\n",
    "from astropy.wcs import WCS\n",
    "from lmfit import Model\n",
    "import pdb\n",
    "#%matplotlib inline\n",
    "import getpass\n",
    "from scipy.optimize import curve_fit\n",
    "\n",
    "\n",
    "import matplotlib\n",
    "matplotlib.rc('font', family='serif', serif='cm10')\n",
    "\n",
    "matplotlib.rc('text', usetex=True)\n",
    "matplotlib.rcParams['text.latex.preamble'] = [r'\\boldmath']\n",
    "\n",
    "def airtovac(wave):\n",
    "    \"\"\" Convert air-based wavelengths to vacuum\n",
    "\n",
    "    Parameters:\n",
    "    ----------\n",
    "    wave: ndarray\n",
    "      Wavelengths\n",
    "\n",
    "    Returns:\n",
    "    ----------\n",
    "    wavelenght: ndarray\n",
    "      Wavelength array corrected to vacuum wavelengths\n",
    "    \"\"\"\n",
    "    # Assume AA\n",
    "    wavelength = wave\n",
    "\n",
    "    # Standard conversion format\n",
    "    sigma_sq = (1.e4/wavelength)**2. #wavenumber squared\n",
    "    factor = 1 + (5.792105e-2/(238.0185-sigma_sq)) + (1.67918e-3/(57.362-sigma_sq))\n",
    "    factor = factor*(wavelength>=2000.) + 1.*(wavelength<2000.) #only modify above 2000A\n",
    "\n",
    "    # Convert\n",
    "    wavelength = wavelength*factor\n",
    "\n",
    "    return wavelength\n",
    "\n",
    "print(airtovac(2852.9634))"
   ]
  },
  {
   "cell_type": "code",
   "execution_count": 21,
   "metadata": {},
   "outputs": [],
   "source": [
    "xcen = [114,114,115,118,121,124,127,133,137,141,148,153,160,166,170,177,185,191,198,203,208,213,220,225,231,238,244,246,244,240,238,242]\n",
    "ycen = [226,233,237,241,244,248,252,257,260,264,269,271,274,274,274,274,274,272,271,270,268,266,263,259,255,249,244,240,237,234,228,224]\n",
    "%matplotlib qt\n",
    "flx_tot = np.zeros(3802)\n",
    "flx_er_tot = np.zeros(3802)\n",
    "for cx, cy in zip(xcen, ycen):\n",
    "    data = ascii.read('/home/ahmed/astro/spectra/spectrum_tot_'+str(cx)+'_'+str(cy)+'.dat')\n",
    "    wave = data['wave']\n",
    "    z = 1.7039798441343401\n",
    "    wrest = wave / (1. + z)\n",
    "    flx = data['flx']\n",
    "    flx = np.asarray(flx)\n",
    "    flx_er_SQ = data['flx_er']**2\n",
    "    #print(flx_tot.shape); \n",
    "    #print(flx.shape)\n",
    "    flx_tot = np.vstack((flx_tot,flx))\n",
    "    flx_er_tot = np.vstack((flx_er_tot,flx_er_SQ))\n",
    "\n",
    "flx_stack = flx_tot.sum(axis=0)\n",
    "flx_stack_SQ = flx_er_tot.sum(axis=0)\n",
    "flx_er_tot = np.sqrt(flx_stack_SQ)\n",
    "\n",
    "\n",
    "\n",
    "fig = plt.figure()\n",
    "ax1 = fig.add_subplot(111)\n",
    "#ax2 = ax1.twiny()\n",
    "\n",
    "\n",
    "ax1.step(wave,flx_stack)\n",
    "ax1.step(wave,flx_er_tot)\n",
    "ax1.set_xlabel('Observed Wavelength [A$^\\circ$]')\n",
    "ax1.set_ylabel('Flux [ 10$^{-20}$ erg s$^{-1}$ cm$^{-2}$ A$^\\circ$$^{-1}$]')\n",
    "ax1.set_title(r'\\textbf{Stacked Spectrum of the Arc}', fontsize = 16)\n",
    "\n",
    "elements = [1906.04, 1908.21, 2342.78, 2364.52, 2373.44, 2381.45, 2395.52, 2324.82, 2326.88, 2470.97, 2471.09, 2585.07, 2598.68, 2611.95, 2625.33, 2631.28, 2794.06, 2801.38]\n",
    "\n",
    "ax2 = ax1.twiny()\n",
    "'''\n",
    "ax1Xs = ax1.get_xticks()\n",
    "ax2Xs = []\n",
    "for X in ax1Xs:\n",
    "    ax2Xs.append(X / (1. + z))\n",
    "ax2.set_xticks(ax1Xs)\n",
    "ax2.set_xbound(ax1.get_xbound())\n",
    "ax2.set_xticklabels(ax2Xs)\n",
    "'''\n",
    "ax2.step(wrest, flx_stack, alpha = 0.1) # Create a dummy plot\n",
    "for i in elements:\n",
    "    ax2.plot([i,i],[0.,6000.],'--',alpha=0.4)\n",
    "ax2.set_xlabel('Rest Wavelength [A$^\\circ$]')\n",
    "#ax2.cla()\n",
    "#plt.xlim([6600.,6800.])\n",
    "\n",
    "#plt.savefig('/home/ahmed/astro/figures/spectra/stacked_spectrum_OII.pdf')\n",
    "plt.show()\n",
    "#dat = Table([wave, flx_stack, flx_er_tot],names = ['wave','flx','flx_er'])\n",
    "#ascii.write(dat,'/home/ahmed/astro/spectra/stacked_spectrum_tot.dat',overwrite=True)"
   ]
  },
  {
   "cell_type": "code",
   "execution_count": 17,
   "metadata": {},
   "outputs": [],
   "source": [
    "# Do the slicing for OII, CIII, FeII, and MgII.\n",
    "def cont_func(wave, flx, flx_er, winmin, winmax, minw, maxw):\n",
    "    # wave: wavelength\n",
    "    # flx: flux\n",
    "    # flx_er: error in flux\n",
    "    # winmin: the start wavelength for the total shown window around the line\n",
    "    # winmax: the end wavelength for the total shown window around the line\n",
    "    # minw: the start wavelength of the narrow window around the line\n",
    "    # maxw: the end wavelegnth of the narrow window around the line\n",
    "    q1 = np.where((wave > winmin) & (wave < winmax))\n",
    "    wave = wave[q1]\n",
    "    flx  = flx[q1]\n",
    "    flx_er = flx_er[q1]\n",
    "    ### Doing the continuum fitting\n",
    "    q2 = np.where((wave > minw) & (wave < maxw))\n",
    "    wave_fit = np.delete(wave, q2)\n",
    "    flx_fit = np.delete(flx, q2)\n",
    "    cont = np.poly1d(np.polyfit(wave_fit, flx_fit, 3))\n",
    "    continuum = cont(wave)\n",
    "    flx_norm = flx/continuum\n",
    "    flx_er_norm = flx_er/continuum\n",
    "    return wave, flx, flx_er, continuum, flx_norm, flx_er_norm"
   ]
  },
  {
   "cell_type": "code",
   "execution_count": 28,
   "metadata": {},
   "outputs": [
    {
     "data": {
      "text/plain": [
       "\"\\nfig = plt.figure()\\nfig.suptitle(r'\\textbf{Stacked Spectral Lines}',fontsize=16)\\nax1 = plt.subplot(411)\\nax1.step(wave_fe, flx_fe)\\nax1.step(wave_fe, flx_er_fe)\\nax1.set_title(r'\\textbf{FeII lines}')\\nax1.set_ylabel('Flux')\\n\\nax2 = plt.subplot(412)\\nax2.step(wave_oii, flx_oii)\\nax2.step(wave_oii, flx_er_oii)\\nax2.set_title(r'\\textbf{OII lines}')\\nax2.set_ylabel('Flux')\\n\\n\\nax3 = plt.subplot(413)\\nax3.step(wave_mg, flx_mg)\\nax3.step(wave_mg, flx_er_mg)\\nax3.set_title(r'\\textbf{MgII lines}')\\nax3.set_ylabel('Flux')\\n\\nax4 = plt.subplot(414)\\nax4.step(wave_ciii, flx_ciii)\\nax4.step(wave_ciii, flx_er_ciii)\\nax4.set_title(r'\\textbf{CIII lines}')\\nax4.set_xlabel('Observed Wavelength')\\nax4.set_ylabel('Flux')\\nplt.show()\\n#plt.step(wave,flx_norm)\\n#plt.step(wave,continuum)\\n#plt.step(wave_fit,flx_fit)\\n#plt.step(wave,flx_er_norm)\\n#plt.show()\\n\""
      ]
     },
     "execution_count": 28,
     "metadata": {},
     "output_type": "execute_result"
    }
   ],
   "source": [
    "spectrum = ascii.read('/home/ahmed/astro/spectra/stacked_spectrum_tot.dat')\n",
    "wave = spectrum['wave']\n",
    "flx = spectrum['flx']\n",
    "flx_er = spectrum['flx_er']\n",
    "wave_fe, flx_fe, flx_er_fe, continuum_fe, flx_norm_fe, flx_er_norm_fe = cont_func(wave, flx, flx_er, 6722., 7379., 6973., 7125.)\n",
    "wave_oii, flx_oii, flx_er_oii, continuum_oii, flx_norm_oii, flx_er_norm_oii = cont_func(wave, flx, flx_er, 6510.,6830., 6668., 6687.)\n",
    "wave_mg, flx_mg, flx_er_mg, continuum_mg, flx_norm_mg, flx_er_norm_mg = cont_func(wave, flx, flx_er, 7200., 7870., 7535., 7606.)\n",
    "wave_ciii, flx_ciii, flx_er_ciii, continuum_ciii, flx_norm_ciii, flx_er_norm_ciii = cont_func(wave, flx, flx_er, 5050., 5300., 5147., 5167.)\n",
    "\n",
    "dat_fe = Table([wave_fe, flx_fe, flx_er_fe, continuum_fe, flx_norm_fe, flx_er_norm_fe], names=['wave', 'flx', 'flx_er', 'continuum', 'flx_norm', 'flx_er_norm'])\n",
    "dat_oii = Table([wave_oii, flx_oii, flx_er_oii, continuum_oii, flx_norm_oii, flx_er_norm_oii], names=['wave', 'flx', 'flx_er', 'continuum', 'flx_norm', 'flx_er_norm'])\n",
    "dat_mg = Table([wave_mg, flx_mg, flx_er_mg, continuum_mg, flx_norm_mg, flx_er_norm_mg], names=['wave', 'flx', 'flx_er', 'continuum', 'flx_norm', 'flx_er_norm'])\n",
    "dat_ciii = Table([wave_ciii, flx_ciii, flx_er_ciii, continuum_ciii, flx_norm_ciii, flx_er_norm_ciii], names=['wave', 'flx', 'flx_er', 'continuum', 'flx_norm', 'flx_er_norm'])\n",
    "\n",
    "ascii.write(dat_fe,'/home/ahmed/astro/spectra/stacked_spectrum_FeII.dat',overwrite=True)\n",
    "ascii.write(dat_oii,'/home/ahmed/astro/spectra/stacked_spectrum_OII.dat',overwrite=True)\n",
    "ascii.write(dat_mg,'/home/ahmed/astro/spectra/stacked_spectrum_MgII.dat',overwrite=True)\n",
    "ascii.write(dat_ciii,'/home/ahmed/astro/spectra/stacked_spectrum_CIII.dat',overwrite=True)\n",
    "\n",
    "\n",
    "\n",
    "import matplotlib\n",
    "matplotlib.rc('font', family='serif', serif='cm10')\n",
    "\n",
    "matplotlib.rc('text', usetex=True)\n",
    "matplotlib.rcParams['text.latex.preamble'] = [r'\\boldmath']\n",
    "\n",
    "\n",
    "\n",
    "'''\n",
    "fig = plt.figure()\n",
    "fig.suptitle(r'\\textbf{Stacked Spectral Lines}',fontsize=16)\n",
    "ax1 = plt.subplot(411)\n",
    "ax1.step(wave_fe, flx_fe)\n",
    "ax1.step(wave_fe, flx_er_fe)\n",
    "ax1.set_title(r'\\textbf{FeII lines}')\n",
    "ax1.set_ylabel('Flux')\n",
    "\n",
    "ax2 = plt.subplot(412)\n",
    "ax2.step(wave_oii, flx_oii)\n",
    "ax2.step(wave_oii, flx_er_oii)\n",
    "ax2.set_title(r'\\textbf{OII lines}')\n",
    "ax2.set_ylabel('Flux')\n",
    "\n",
    "\n",
    "ax3 = plt.subplot(413)\n",
    "ax3.step(wave_mg, flx_mg)\n",
    "ax3.step(wave_mg, flx_er_mg)\n",
    "ax3.set_title(r'\\textbf{MgII lines}')\n",
    "ax3.set_ylabel('Flux')\n",
    "\n",
    "ax4 = plt.subplot(414)\n",
    "ax4.step(wave_ciii, flx_ciii)\n",
    "ax4.step(wave_ciii, flx_er_ciii)\n",
    "ax4.set_title(r'\\textbf{CIII lines}')\n",
    "ax4.set_xlabel('Observed Wavelength')\n",
    "ax4.set_ylabel('Flux')\n",
    "plt.show()\n",
    "#plt.step(wave,flx_norm)\n",
    "#plt.step(wave,continuum)\n",
    "#plt.step(wave_fit,flx_fit)\n",
    "#plt.step(wave,flx_er_norm)\n",
    "#plt.show()\n",
    "'''"
   ]
  },
  {
   "cell_type": "code",
   "execution_count": 3,
   "metadata": {},
   "outputs": [
    {
     "data": {
      "text/plain": [
       "<module 'musetools.modeling' from '/home/ahmed/musetools/src/musetools/modeling.py'>"
      ]
     },
     "execution_count": 3,
     "metadata": {},
     "output_type": "execute_result"
    }
   ],
   "source": [
    "from musetools import modeling as m\n",
    "import importlib\n",
    "importlib.reload(m)"
   ]
  },
  {
   "cell_type": "code",
   "execution_count": 4,
   "metadata": {},
   "outputs": [
    {
     "name": "stdout",
     "output_type": "stream",
     "text": [
      "z:  1.7039798441343401\n",
      "[1.70397984 0.27562427 1.59975979]\n",
      "[4.32340104e-05 1.86054234e-02 1.31398943e-01]\n"
     ]
    },
    {
     "name": "stderr",
     "output_type": "stream",
     "text": [
      "/home/ahmed/anaconda3/lib/python3.6/site-packages/matplotlib/font_manager.py:1241: UserWarning: findfont: Font family ['serif'] not found. Falling back to DejaVu Sans.\n",
      "  (prop.get_family(), self.defaultFamily[fontext]))\n",
      "/home/ahmed/anaconda3/lib/python3.6/site-packages/matplotlib/font_manager.py:1241: UserWarning: findfont: Font family ['serif'] not found. Falling back to DejaVu Sans.\n",
      "  (prop.get_family(), self.defaultFamily[fontext]))\n",
      "/home/ahmed/anaconda3/lib/python3.6/site-packages/matplotlib/font_manager.py:1241: UserWarning: findfont: Font family ['serif'] not found. Falling back to DejaVu Sans.\n",
      "  (prop.get_family(), self.defaultFamily[fontext]))\n"
     ]
    },
    {
     "data": {
      "image/png": "[encoded data removed]",
      "text/plain": [
       "<Figure size 432x288 with 1 Axes>"
      ]
     },
     "metadata": {
      "needs_background": "light"
     },
     "output_type": "display_data"
    }
   ],
   "source": [
    "### Fitting OII to get the redshift\n",
    "data_oii = ascii.read('/home/ahmed/astro/spectra/stacked_spectrum_OII.dat')\n",
    "wave = data_oii['wave']\n",
    "flx_norm = data_oii['flx_norm']\n",
    "flx_er_norm = data_oii['flx_er_norm']\n",
    "\n",
    "\n",
    "\n",
    "\n",
    "%matplotlib inline\n",
    "\n",
    "popt, pcov = curve_fit(m.model_OII, wave, flx_norm,[1.7,1.,50.],sigma=flx_er_norm,bounds=([1.7,0.,0.],[1.72,1.5,1000.]))\n",
    "perr = np.sqrt(np.diag(pcov))\n",
    "print('z: ',popt[0])\n",
    "print(popt)\n",
    "print(perr)\n",
    "fig, ax = plt.subplots()\n",
    "ax.step(wave,flx_norm,label='Normalized Flux')\n",
    "ax.step(wave,m.model_OII(wave,*popt),label='Model')\n",
    "ax.step(wave,flx_er_norm,'r',label='Error')\n",
    "ax.set_title('Fitting OII doublet for the Stacked Spectrum')\n",
    "ax.text(6720.,1.3,r'\\textbf{z}= '+str(popt[0])+',\\n $\\sigma_{z}$ ='+str(perr[0])+'')\n",
    "ax.set_xlabel('Wavelength')\n",
    "ax.set_ylabel('Normalized Flux')\n",
    "ax.set_xlim([6640.,6750.])\n",
    "ax.legend(loc=0, fontsize='small')\n",
    "#fig.savefig('/home/ahmed/astro/figures/fitting/Fit_CIII_'+str(cx)+'_'+str(cy)+'.pdf')\n",
    "plt.show()"
   ]
  },
  {
   "cell_type": "code",
   "execution_count": 6,
   "metadata": {},
   "outputs": [
    {
     "name": "stdout",
     "output_type": "stream",
     "text": [
      "[-121.19397847  117.43823248    0.75199208    2.49453096    1.00783564\n",
      "    0.74389593  163.63912506   64.25470193]\n",
      "[25.57089344  9.00640592  0.04035971  0.55401422  0.05765079  0.06639582\n",
      " 18.94644573  7.54849168]\n"
     ]
    },
    {
     "data": {
      "image/png": "[encoded data removed]",
      "text/plain": [
       "<Figure size 432x288 with 1 Axes>"
      ]
     },
     "metadata": {
      "needs_background": "light"
     },
     "output_type": "display_data"
    }
   ],
   "source": [
    "data_mg = ascii.read('/home/ahmed/astro/spectra/stacked_spectrum_MgII.dat')\n",
    "wave = data_mg['wave']\n",
    "wave = airtovac(wave)\n",
    "flx_norm = data_mg['flx_norm']\n",
    "flx_er_norm = data_mg['flx_er_norm']\n",
    "#z = 1.7032334178263004\n",
    "z = 1.7039798441343401\n",
    "wrest = wave / (1. + z)\n",
    "lam_center = [2796.351,2803.528]\n",
    "#lam_center = [2586.650,2600.173,2612.654,2626.451]\n",
    "vel1 = u.veldiff(wrest,lam_center[0])\n",
    "popt, pcov = curve_fit(m.modelMg, vel1, flx_norm,[ 0., 130., 0.9, 1., 0.8, 0.7, 150., 80.])\n",
    "perr = np.sqrt(np.diag(pcov))\n",
    "print(popt)\n",
    "print(perr)        \n",
    "Fabs = m.modelMg(vel1,*popt)\n",
    "#if plot ==True:\n",
    "fig, ax = plt.subplots()\n",
    "ax.step(vel1, flx_norm, label='Normalized Flux')\n",
    "#ax.plot(vel1, m.modelMg(vel1,*popt), 'y-',label='Model')\n",
    "ax.step(vel1, Fabs, label='Absorption')\n",
    "ax.step(vel1, flx_er_norm,'r',label='Error')\n",
    "ax.legend(loc=0)\n",
    "ax.set_title('Normalized Flux Vs Velocity for the Stacked MgII lines')\n",
    "ax.text(4000.,1.7,'$V_{abs}$= '+str(popt[0])+' km $s^{-1}$,\\n $\\sigma_{V_{abs}}$ ='+str(perr[0])+' km $s^{-1}$')\n",
    "ax.text(4000.,1.4,'$V_{ems}$= '+str(popt[1])+' km $s^{-1}$,\\n $\\sigma_{V_{ems}}$ ='+str(perr[1])+' km $s^{-1}$')\n",
    "ax.set_xlabel('Velocity')\n",
    "ax.set_ylabel('Normalized Flux')\n",
    "ax.set_xlim([-2100,6200])\n",
    "#fig.savefig('/home/ahmed/astro/figures/fitting/regions/model_fit_mg_'+str(cx)+'_'+str(cy)+'.pdf',overwrite=True)\n",
    "plt.show()"
   ]
  },
  {
   "cell_type": "code",
   "execution_count": 7,
   "metadata": {},
   "outputs": [
    {
     "name": "stdout",
     "output_type": "stream",
     "text": [
      "[-81.08949308   0.76516654   0.34391314   1.09566042   1.46559913\n",
      "   0.38273847 128.51012749 116.44389729]\n",
      "[3.75062687 0.02962323 0.02988062 0.04913414 0.13748261 0.08274092\n",
      " 4.59350377 8.0156886 ]\n"
     ]
    },
    {
     "data": {
      "image/png": "[encoded data removed]",
      "text/plain": [
       "<Figure size 432x288 with 1 Axes>"
      ]
     },
     "metadata": {
      "needs_background": "light"
     },
     "output_type": "display_data"
    }
   ],
   "source": [
    "data_fe = ascii.read('/home/ahmed/astro/spectra/stacked_spectrum_FeII.dat')\n",
    "wave = data_fe['wave']\n",
    "wave = airtovac(wave)\n",
    "flx_norm = data_fe['flx_norm']\n",
    "flx_er_norm = data_fe['flx_er_norm']\n",
    "#z = 1.7032334178263004\n",
    "z = 1.7039798441343401\n",
    "wrest = wave / (1. + z)\n",
    "#lam_center = [2796.351,2803.528]\n",
    "lam_center = [2586.650,2600.173,2612.654,2626.451]\n",
    "vel1 = u.veldiff(wrest,lam_center[0])\n",
    "popt, pcov = curve_fit(m.modelFe, vel1, flx_norm,[0.,0.7,0.4,1.1,1.7,1.,150.,100.])\n",
    "perr = np.sqrt(np.diag(pcov))\n",
    "print(popt)\n",
    "print(perr)        \n",
    "Fabs = m.modelFe(vel1,*popt)\n",
    "fig, ax = plt.subplots()\n",
    "ax.step(vel1, flx_norm, label='Normalized Flux')\n",
    "#ax.plot(vel1, m.modelMg(vel1,*popt), 'y-',label='Model')\n",
    "ax.step(vel1, Fabs, label='Absorption')\n",
    "ax.step(vel1, flx_er_norm,'r',label='Error')\n",
    "ax.legend(loc=0)\n",
    "ax.set_title('Normalized Flux Vs Velocity for stacked FeII lines')\n",
    "ax.text(4000.,0.7,'$V_{abs}$= '+str(popt[0])+' km $s^{-1}$,\\n $\\sigma_{V_{abs}}$ ='+str(perr[0])+' km $s^{-1}$')\n",
    "ax.set_xlabel('Velocity')\n",
    "ax.set_ylabel('Normalized Flux')\n",
    "ax.set_xlim([-2100,6200])\n",
    "#fig.savefig('/home/ahmed/astro/figures/fitting/regions/model_fit_fe_'+str(cx)+'_'+str(cy)+'.pdf',overwrite=True)\n",
    "plt.show()"
   ]
  },
  {
   "cell_type": "code",
   "execution_count": null,
   "metadata": {},
   "outputs": [],
   "source": []
  }
 ],
 "metadata": {
  "kernelspec": {
   "display_name": "Python 3",
   "language": "python",
   "name": "python3"
  },
  "language_info": {
   "codemirror_mode": {
    "name": "ipython",
    "version": 3
   },
   "file_extension": ".py",
   "mimetype": "text/x-python",
   "name": "python",
   "nbconvert_exporter": "python",
   "pygments_lexer": "ipython3",
   "version": "3.6.7"
  }
 },
 "nbformat": 4,
 "nbformat_minor": 2
}
