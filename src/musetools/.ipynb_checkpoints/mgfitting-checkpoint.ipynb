{
 "cells": [
  {
   "cell_type": "code",
   "execution_count": 1,
   "metadata": {},
   "outputs": [],
   "source": [
    "import numpy as np\n",
    "import matplotlib.pyplot as plt\n",
    "from astropy.convolution import convolve, Gaussian1DKernel"
   ]
  },
  {
   "cell_type": "code",
   "execution_count": 2,
   "metadata": {},
   "outputs": [],
   "source": [
    "def modelMg(v,modelpar):\n",
    "    v1 = modelpar[0]\n",
    "    v3 = modelpar[1]\n",
    "    tau1 = modelpar[2]\n",
    "    tau2 =  modelpar[3]\n",
    "    c1 = modelpar[4]\n",
    "    c2 = modelpar[5]\n",
    "    sigma1 = modelpar[6]\n",
    "    sigma2 = modelpar[7]\n",
    "    v2 = v1 + 768.4476528376828\n",
    "    Fabs = 1. - tau1 * np.exp(-(v - v1)**2. / (2. * sigma1**2.)) - c1 * tau1 * np.exp(-(v - v2)**2. / (2. * sigma1**2.))\n",
    "    #dv = modelpar[7]\n",
    "    v4 = v3 + 745.2286364478183\n",
    "    Fems = 1. + tau2 * np.exp(-(v - v3)**2. / (2. * sigma2**2.)) + c2 * tau2 * np.exp(-(v - v4)**2. / (2. * sigma2**2.))\n",
    "    muse_kernel = ((2.5428565/1.25) / 2.355)\n",
    "    F = Fabs * Fems\n",
    "    g = Gaussian1DKernel(stddev=muse_kernel)\n",
    "    return convolve(F, g,boundary='extend')\n",
    "\n",
    "p0 = [0.,300.,0.9,0.8,0.5,1.,100.,80.]"
   ]
  },
  {
   "cell_type": "code",
   "execution_count": 3,
   "metadata": {},
   "outputs": [],
   "source": [
    "import matplotlib.pyplot as plt\n",
    "from musetools import io as io\n",
    "from musetools import spec as s\n",
    "import musetools.util as u\n",
    "import musetools.modeling as m\n",
    "from astropy.wcs import WCS\n",
    "import pdb\n",
    "import getpass\n",
    "\n",
    "username=getpass.getuser()\n",
    "\n",
    "if username == 'bordoloi':\n",
    "    fitsfile = '/Users/bordoloi/Dropbox/MUSE/LensedArc/RCS0327_16mc_zap.fits'\n",
    "else:\n",
    "    fitsfile = '/home/ahmed/astro/data/RCS0327_16mc_zap.fits'"
   ]
  },
  {
   "cell_type": "code",
   "execution_count": 4,
   "metadata": {},
   "outputs": [
    {
     "data": {
      "text/plain": [
       "[<matplotlib.lines.Line2D at 0x7f5186dda278>]"
      ]
     },
     "execution_count": 4,
     "metadata": {},
     "output_type": "execute_result"
    },
    {
     "data": {
      "image/png": "[encoded data removed]",
      "text/plain": [
       "<Figure size 432x288 with 3 Axes>"
      ]
     },
     "metadata": {
      "needs_background": "light"
     },
     "output_type": "display_data"
    }
   ],
   "source": [
    "cx = 114\n",
    "cy = 230\n",
    "wave, data, var, header = io.open_muse_cube(fitsfile)\n",
    "zgal = 1.7037455\n",
    "wrest = wave / (1. + zgal)\n",
    "flx, flx_er = s.extract_square(cx, cy, wave, data, var, 5)\n",
    "minindex = 2250\n",
    "maxindex = 2500\n",
    "wave = wave[minindex:maxindex]\n",
    "flx = flx[minindex:maxindex]\n",
    "flx_er = flx_er[minindex:maxindex]\n",
    "wrest = wrest[minindex:maxindex]\n",
    "### Fitting Continuum\n",
    "minw = 7540.\n",
    "maxw = 7590.\n",
    "q = np.where((wave > minw) & (wave < maxw))\n",
    "wrest_fit = np.delete(wrest, q)\n",
    "flx_fit  = np.delete(flx, q)\n",
    "cont = np.poly1d(np.polyfit(wrest_fit, flx_fit, 3))  # Defining my polynomial\n",
    "continuum = cont(wrest)\n",
    "\n",
    "norm_flx = flx/continuum\n",
    "norm_flx_er = flx_er/continuum\n",
    "lam_center = [2796.351,2803.528]\n",
    "vel = u.veldiff(wrest,lam_center[0])\n",
    "\n",
    "fig, ax = plt.subplots(3)\n",
    "ax[0].step(wave,flx)\n",
    "ax[0].step(wave,flx_er)\n",
    "\n",
    "ax[1].step(wrest,flx)\n",
    "ax[1].step(wrest,continuum)\n",
    "ax[1].step(wrest,flx_er)\n",
    "\n",
    "ax[2].step(vel,norm_flx)\n",
    "ax[2].step(vel,norm_flx_er)\n"
   ]
  },
  {
   "cell_type": "code",
   "execution_count": 5,
   "metadata": {},
   "outputs": [
    {
     "name": "stdout",
     "output_type": "stream",
     "text": [
      "[[Model]]\n",
      "    Model(modelMg)\n",
      "[[Fit Statistics]]\n",
      "    # fitting method   = leastsq\n",
      "    # function evals   = 197\n",
      "    # data points      = 250\n",
      "    # variables        = 8\n",
      "    chi-square         = 5.22955171\n",
      "    reduced chi-square = 0.02160972\n",
      "    Akaike info crit   = -950.783839\n",
      "    Bayesian info crit = -922.612152\n",
      "[[Variables]]\n",
      "    v1:     -188.901878 +/- 35.3604032 (18.72%) (init = 0)\n",
      "    v3:      49.4828755 +/- 26.1114112 (52.77%) (init = 300)\n",
      "    tau1:    1.03899475 +/- 0.07846043 (7.55%) (init = 0.9)\n",
      "    tau2:    2.97861055 +/- 1.35969130 (45.65%) (init = 0.8)\n",
      "    c1:      0.94745164 +/- 0.08166667 (8.62%) (init = 0.5)\n",
      "    c2:      0.65979794 +/- 0.12921644 (19.58%) (init = 1)\n",
      "    sigma1:  162.898253 +/- 28.4691874 (17.48%) (init = 100)\n",
      "    sigma2:  57.8035020 +/- 21.9728901 (38.01%) (init = 80)\n",
      "[[Correlations]] (unreported correlations are < 0.100)\n",
      "    C(v1, tau2)       =  0.933\n",
      "    C(v3, sigma2)     = -0.926\n",
      "    C(tau2, sigma1)   =  0.919\n",
      "    C(v1, v3)         = -0.904\n",
      "    C(v1, sigma1)     =  0.868\n",
      "    C(v1, sigma2)     =  0.843\n",
      "    C(v3, tau2)       = -0.823\n",
      "    C(sigma1, sigma2) =  0.796\n",
      "    C(v3, sigma1)     = -0.783\n",
      "    C(tau2, sigma2)   =  0.722\n",
      "    C(v1, c2)         =  0.599\n",
      "    C(tau1, c1)       = -0.576\n",
      "    C(v3, c2)         = -0.546\n",
      "    C(c2, sigma1)     =  0.509\n",
      "    C(c2, sigma2)     =  0.506\n",
      "    C(tau2, c2)       =  0.477\n",
      "    C(c1, c2)         =  0.469\n",
      "    C(v3, tau1)       = -0.303\n",
      "    C(tau1, sigma2)   =  0.209\n",
      "    C(v1, tau1)       =  0.122\n",
      "    C(tau1, c2)       = -0.121\n",
      "    C(tau1, sigma1)   = -0.117\n",
      "    C(tau2, c1)       = -0.108\n",
      "\n"
     ]
    },
    {
     "data": {
      "text/plain": [
       "(-4000.0, 4000.0)"
      ]
     },
     "execution_count": 5,
     "metadata": {},
     "output_type": "execute_result"
    },
    {
     "data": {
      "image/png": "[encoded data removed]",
      "text/plain": [
       "<Figure size 432x288 with 1 Axes>"
      ]
     },
     "metadata": {
      "needs_background": "light"
     },
     "output_type": "display_data"
    }
   ],
   "source": [
    "import musetools.modeling as m\n",
    "from lmfit import Model\n",
    "vel1 = vel\n",
    "gmodel = Model(m.modelMg)\n",
    "result = gmodel.fit(norm_flx,v=vel1,v1=0.,v3=300.,tau1=0.9,tau2=0.8,c1=0.5,c2=1.,sigma1=100.,sigma2=80.)\n",
    "print(result.fit_report())\n",
    "plt.step(vel1, norm_flx, label='Normalized Flux')\n",
    "plt.plot(vel1, result.best_fit,'y-',label='Model')\n",
    "plt.step(vel1, norm_flx_er,'r',label='Error')\n",
    "plt.legend(loc=0)\n",
    "plt.xlim([-4000.,4000.])\n",
    "\n",
    "\n"
   ]
  },
  {
   "cell_type": "code",
   "execution_count": 14,
   "metadata": {},
   "outputs": [
    {
     "ename": "TypeError",
     "evalue": "modelMg() takes 2 positional arguments but 10 were given",
     "output_type": "error",
     "traceback": [
      "\u001b[0;31m---------------------------------------------------------------------------\u001b[0m",
      "\u001b[0;31mTypeError\u001b[0m                                 Traceback (most recent call last)",
      "\u001b[0;32m<ipython-input-14-fbdac59cead7>\u001b[0m in \u001b[0;36m<module>\u001b[0;34m\u001b[0m\n\u001b[1;32m      1\u001b[0m \u001b[0;32mfrom\u001b[0m \u001b[0mscipy\u001b[0m\u001b[0;34m.\u001b[0m\u001b[0moptimize\u001b[0m \u001b[0;32mimport\u001b[0m \u001b[0mcurve_fit\u001b[0m\u001b[0;34m\u001b[0m\u001b[0;34m\u001b[0m\u001b[0m\n\u001b[0;32m----> 2\u001b[0;31m \u001b[0mpopt\u001b[0m\u001b[0;34m,\u001b[0m \u001b[0mpcov\u001b[0m \u001b[0;34m=\u001b[0m \u001b[0mcurve_fit\u001b[0m\u001b[0;34m(\u001b[0m\u001b[0mmodelMg\u001b[0m\u001b[0;34m,\u001b[0m\u001b[0mvel1\u001b[0m\u001b[0;34m,\u001b[0m\u001b[0mnorm_flx\u001b[0m\u001b[0;34m,\u001b[0m\u001b[0mp0\u001b[0m\u001b[0;34m)\u001b[0m\u001b[0;34m\u001b[0m\u001b[0;34m\u001b[0m\u001b[0m\n\u001b[0m",
      "\u001b[0;32m~/anaconda3/lib/python3.6/site-packages/scipy/optimize/minpack.py\u001b[0m in \u001b[0;36mcurve_fit\u001b[0;34m(f, xdata, ydata, p0, sigma, absolute_sigma, check_finite, bounds, method, jac, **kwargs)\u001b[0m\n\u001b[1;32m    749\u001b[0m         \u001b[0;31m# Remove full_output from kwargs, otherwise we're passing it in twice.\u001b[0m\u001b[0;34m\u001b[0m\u001b[0;34m\u001b[0m\u001b[0;34m\u001b[0m\u001b[0m\n\u001b[1;32m    750\u001b[0m         \u001b[0mreturn_full\u001b[0m \u001b[0;34m=\u001b[0m \u001b[0mkwargs\u001b[0m\u001b[0;34m.\u001b[0m\u001b[0mpop\u001b[0m\u001b[0;34m(\u001b[0m\u001b[0;34m'full_output'\u001b[0m\u001b[0;34m,\u001b[0m \u001b[0;32mFalse\u001b[0m\u001b[0;34m)\u001b[0m\u001b[0;34m\u001b[0m\u001b[0;34m\u001b[0m\u001b[0m\n\u001b[0;32m--> 751\u001b[0;31m         \u001b[0mres\u001b[0m \u001b[0;34m=\u001b[0m \u001b[0mleastsq\u001b[0m\u001b[0;34m(\u001b[0m\u001b[0mfunc\u001b[0m\u001b[0;34m,\u001b[0m \u001b[0mp0\u001b[0m\u001b[0;34m,\u001b[0m \u001b[0mDfun\u001b[0m\u001b[0;34m=\u001b[0m\u001b[0mjac\u001b[0m\u001b[0;34m,\u001b[0m \u001b[0mfull_output\u001b[0m\u001b[0;34m=\u001b[0m\u001b[0;36m1\u001b[0m\u001b[0;34m,\u001b[0m \u001b[0;34m**\u001b[0m\u001b[0mkwargs\u001b[0m\u001b[0;34m)\u001b[0m\u001b[0;34m\u001b[0m\u001b[0;34m\u001b[0m\u001b[0m\n\u001b[0m\u001b[1;32m    752\u001b[0m         \u001b[0mpopt\u001b[0m\u001b[0;34m,\u001b[0m \u001b[0mpcov\u001b[0m\u001b[0;34m,\u001b[0m \u001b[0minfodict\u001b[0m\u001b[0;34m,\u001b[0m \u001b[0merrmsg\u001b[0m\u001b[0;34m,\u001b[0m \u001b[0mier\u001b[0m \u001b[0;34m=\u001b[0m \u001b[0mres\u001b[0m\u001b[0;34m\u001b[0m\u001b[0;34m\u001b[0m\u001b[0m\n\u001b[1;32m    753\u001b[0m         \u001b[0mcost\u001b[0m \u001b[0;34m=\u001b[0m \u001b[0mnp\u001b[0m\u001b[0;34m.\u001b[0m\u001b[0msum\u001b[0m\u001b[0;34m(\u001b[0m\u001b[0minfodict\u001b[0m\u001b[0;34m[\u001b[0m\u001b[0;34m'fvec'\u001b[0m\u001b[0;34m]\u001b[0m \u001b[0;34m**\u001b[0m \u001b[0;36m2\u001b[0m\u001b[0;34m)\u001b[0m\u001b[0;34m\u001b[0m\u001b[0;34m\u001b[0m\u001b[0m\n",
      "\u001b[0;32m~/anaconda3/lib/python3.6/site-packages/scipy/optimize/minpack.py\u001b[0m in \u001b[0;36mleastsq\u001b[0;34m(func, x0, args, Dfun, full_output, col_deriv, ftol, xtol, gtol, maxfev, epsfcn, factor, diag)\u001b[0m\n\u001b[1;32m    381\u001b[0m     \u001b[0;32mif\u001b[0m \u001b[0;32mnot\u001b[0m \u001b[0misinstance\u001b[0m\u001b[0;34m(\u001b[0m\u001b[0margs\u001b[0m\u001b[0;34m,\u001b[0m \u001b[0mtuple\u001b[0m\u001b[0;34m)\u001b[0m\u001b[0;34m:\u001b[0m\u001b[0;34m\u001b[0m\u001b[0;34m\u001b[0m\u001b[0m\n\u001b[1;32m    382\u001b[0m         \u001b[0margs\u001b[0m \u001b[0;34m=\u001b[0m \u001b[0;34m(\u001b[0m\u001b[0margs\u001b[0m\u001b[0;34m,\u001b[0m\u001b[0;34m)\u001b[0m\u001b[0;34m\u001b[0m\u001b[0;34m\u001b[0m\u001b[0m\n\u001b[0;32m--> 383\u001b[0;31m     \u001b[0mshape\u001b[0m\u001b[0;34m,\u001b[0m \u001b[0mdtype\u001b[0m \u001b[0;34m=\u001b[0m \u001b[0m_check_func\u001b[0m\u001b[0;34m(\u001b[0m\u001b[0;34m'leastsq'\u001b[0m\u001b[0;34m,\u001b[0m \u001b[0;34m'func'\u001b[0m\u001b[0;34m,\u001b[0m \u001b[0mfunc\u001b[0m\u001b[0;34m,\u001b[0m \u001b[0mx0\u001b[0m\u001b[0;34m,\u001b[0m \u001b[0margs\u001b[0m\u001b[0;34m,\u001b[0m \u001b[0mn\u001b[0m\u001b[0;34m)\u001b[0m\u001b[0;34m\u001b[0m\u001b[0;34m\u001b[0m\u001b[0m\n\u001b[0m\u001b[1;32m    384\u001b[0m     \u001b[0mm\u001b[0m \u001b[0;34m=\u001b[0m \u001b[0mshape\u001b[0m\u001b[0;34m[\u001b[0m\u001b[0;36m0\u001b[0m\u001b[0;34m]\u001b[0m\u001b[0;34m\u001b[0m\u001b[0;34m\u001b[0m\u001b[0m\n\u001b[1;32m    385\u001b[0m     \u001b[0;32mif\u001b[0m \u001b[0mn\u001b[0m \u001b[0;34m>\u001b[0m \u001b[0mm\u001b[0m\u001b[0;34m:\u001b[0m\u001b[0;34m\u001b[0m\u001b[0;34m\u001b[0m\u001b[0m\n",
      "\u001b[0;32m~/anaconda3/lib/python3.6/site-packages/scipy/optimize/minpack.py\u001b[0m in \u001b[0;36m_check_func\u001b[0;34m(checker, argname, thefunc, x0, args, numinputs, output_shape)\u001b[0m\n\u001b[1;32m     25\u001b[0m def _check_func(checker, argname, thefunc, x0, args, numinputs,\n\u001b[1;32m     26\u001b[0m                 output_shape=None):\n\u001b[0;32m---> 27\u001b[0;31m     \u001b[0mres\u001b[0m \u001b[0;34m=\u001b[0m \u001b[0matleast_1d\u001b[0m\u001b[0;34m(\u001b[0m\u001b[0mthefunc\u001b[0m\u001b[0;34m(\u001b[0m\u001b[0;34m*\u001b[0m\u001b[0;34m(\u001b[0m\u001b[0;34m(\u001b[0m\u001b[0mx0\u001b[0m\u001b[0;34m[\u001b[0m\u001b[0;34m:\u001b[0m\u001b[0mnuminputs\u001b[0m\u001b[0;34m]\u001b[0m\u001b[0;34m,\u001b[0m\u001b[0;34m)\u001b[0m \u001b[0;34m+\u001b[0m \u001b[0margs\u001b[0m\u001b[0;34m)\u001b[0m\u001b[0;34m)\u001b[0m\u001b[0;34m)\u001b[0m\u001b[0;34m\u001b[0m\u001b[0;34m\u001b[0m\u001b[0m\n\u001b[0m\u001b[1;32m     28\u001b[0m     \u001b[0;32mif\u001b[0m \u001b[0;34m(\u001b[0m\u001b[0moutput_shape\u001b[0m \u001b[0;32mis\u001b[0m \u001b[0;32mnot\u001b[0m \u001b[0;32mNone\u001b[0m\u001b[0;34m)\u001b[0m \u001b[0;32mand\u001b[0m \u001b[0;34m(\u001b[0m\u001b[0mshape\u001b[0m\u001b[0;34m(\u001b[0m\u001b[0mres\u001b[0m\u001b[0;34m)\u001b[0m \u001b[0;34m!=\u001b[0m \u001b[0moutput_shape\u001b[0m\u001b[0;34m)\u001b[0m\u001b[0;34m:\u001b[0m\u001b[0;34m\u001b[0m\u001b[0;34m\u001b[0m\u001b[0m\n\u001b[1;32m     29\u001b[0m         \u001b[0;32mif\u001b[0m \u001b[0;34m(\u001b[0m\u001b[0moutput_shape\u001b[0m\u001b[0;34m[\u001b[0m\u001b[0;36m0\u001b[0m\u001b[0;34m]\u001b[0m \u001b[0;34m!=\u001b[0m \u001b[0;36m1\u001b[0m\u001b[0;34m)\u001b[0m\u001b[0;34m:\u001b[0m\u001b[0;34m\u001b[0m\u001b[0;34m\u001b[0m\u001b[0m\n",
      "\u001b[0;32m~/anaconda3/lib/python3.6/site-packages/scipy/optimize/minpack.py\u001b[0m in \u001b[0;36mfunc_wrapped\u001b[0;34m(params)\u001b[0m\n\u001b[1;32m    461\u001b[0m     \u001b[0;32mif\u001b[0m \u001b[0mtransform\u001b[0m \u001b[0;32mis\u001b[0m \u001b[0;32mNone\u001b[0m\u001b[0;34m:\u001b[0m\u001b[0;34m\u001b[0m\u001b[0;34m\u001b[0m\u001b[0m\n\u001b[1;32m    462\u001b[0m         \u001b[0;32mdef\u001b[0m \u001b[0mfunc_wrapped\u001b[0m\u001b[0;34m(\u001b[0m\u001b[0mparams\u001b[0m\u001b[0;34m)\u001b[0m\u001b[0;34m:\u001b[0m\u001b[0;34m\u001b[0m\u001b[0;34m\u001b[0m\u001b[0m\n\u001b[0;32m--> 463\u001b[0;31m             \u001b[0;32mreturn\u001b[0m \u001b[0mfunc\u001b[0m\u001b[0;34m(\u001b[0m\u001b[0mxdata\u001b[0m\u001b[0;34m,\u001b[0m \u001b[0;34m*\u001b[0m\u001b[0mparams\u001b[0m\u001b[0;34m)\u001b[0m \u001b[0;34m-\u001b[0m \u001b[0mydata\u001b[0m\u001b[0;34m\u001b[0m\u001b[0;34m\u001b[0m\u001b[0m\n\u001b[0m\u001b[1;32m    464\u001b[0m     \u001b[0;32melif\u001b[0m \u001b[0mtransform\u001b[0m\u001b[0;34m.\u001b[0m\u001b[0mndim\u001b[0m \u001b[0;34m==\u001b[0m \u001b[0;36m1\u001b[0m\u001b[0;34m:\u001b[0m\u001b[0;34m\u001b[0m\u001b[0;34m\u001b[0m\u001b[0m\n\u001b[1;32m    465\u001b[0m         \u001b[0;32mdef\u001b[0m \u001b[0mfunc_wrapped\u001b[0m\u001b[0;34m(\u001b[0m\u001b[0mparams\u001b[0m\u001b[0;34m)\u001b[0m\u001b[0;34m:\u001b[0m\u001b[0;34m\u001b[0m\u001b[0;34m\u001b[0m\u001b[0m\n",
      "\u001b[0;31mTypeError\u001b[0m: modelMg() takes 2 positional arguments but 10 were given"
     ]
    }
   ],
   "source": [
    "from scipy.optimize import curve_fit\n",
    "popt, pcov = curve_fit(modelMg,vel1,norm_flx,p0)"
   ]
  },
  {
   "cell_type": "code",
   "execution_count": null,
   "metadata": {},
   "outputs": [],
   "source": []
  }
 ],
 "metadata": {
  "kernelspec": {
   "display_name": "Python 3",
   "language": "python",
   "name": "python3"
  },
  "language_info": {
   "codemirror_mode": {
    "name": "ipython",
    "version": 3
   },
   "file_extension": ".py",
   "mimetype": "text/x-python",
   "name": "python",
   "nbconvert_exporter": "python",
   "pygments_lexer": "ipython3",
   "version": "3.6.7"
  }
 },
 "nbformat": 4,
 "nbformat_minor": 2
}
